{
 "cells": [
  {
   "cell_type": "code",
   "execution_count": 1,
   "metadata": {},
   "outputs": [],
   "source": [
    "import os\n",
    "import sys\n",
    "nb_dir = os.path.split(os.getcwd())[0]\n",
    "if nb_dir not in sys.path:\n",
    "    sys.path.append(nb_dir)\n",
    "from soldet import SolitonDetector\n",
    "import soldet"
   ]
  },
  {
   "cell_type": "code",
   "execution_count": 4,
   "metadata": {},
   "outputs": [
    {
     "name": "stderr",
     "output_type": "stream",
     "text": [
      "/Users/sjguo/opt/anaconda3/envs/TFenv/lib/python3.7/site-packages/sklearn/base.py:315: UserWarning: Trying to unpickle estimator StandardScaler from version 0.23.1 when using version 0.24.2. This might lead to breaking code or invalid results. Use at your own risk.\n",
      "  UserWarning)\n",
      "/Users/sjguo/opt/anaconda3/envs/TFenv/lib/python3.7/site-packages/sklearn/base.py:315: UserWarning: Trying to unpickle estimator PowerTransformer from version 0.23.1 when using version 0.24.2. This might lead to breaking code or invalid results. Use at your own risk.\n",
      "  UserWarning)\n",
      "100%|██████████| 100/100 [00:00<00:00, 152.14it/s]"
     ]
    },
    {
     "name": "stdout",
     "output_type": "stream",
     "text": [
      "Total number of samples : 100\n"
     ]
    },
    {
     "name": "stderr",
     "output_type": "stream",
     "text": [
      "\n"
     ]
    }
   ],
   "source": [
    "sd = SolitonDetector()\n",
    "sd.load_models(nb_dir+'/example/SolDet_train/')\n",
    "sd.load_data(directory=nb_dir+'/data/data_files/class-9/', data_key='new', data_type='unlabeled', datasize=100) # load unlabeled data"
   ]
  },
  {
   "cell_type": "code",
   "execution_count": 5,
   "metadata": {},
   "outputs": [
    {
     "name": "stderr",
     "output_type": "stream",
     "text": [
      "100%|██████████| 100/100 [00:00<00:00, 104.67it/s]\n"
     ]
    }
   ],
   "source": [
    "model_keys = ['classifier', 'object_detector', 'PIE_classifier', 'quality_estimator']\n",
    "results = []\n",
    "for model_key in model_keys:\n",
    "    results.append(sd.predict(data_key='new', model_key=model_key, position_key='object_detector_positions'))"
   ]
  },
  {
   "cell_type": "code",
   "execution_count": 6,
   "metadata": {},
   "outputs": [],
   "source": [
    "checks ={'classifier_labels':[1,2], \n",
    "         'object_detector_positions_length':[1,2,3],\n",
    "         'PIE_types':[0], \n",
    "         'quality_estimates_bounds':[0.3,1]}\n",
    "refined_data = sd.pipeline(data_key='new', new_data_key='refined', checks=checks)"
   ]
  },
  {
   "cell_type": "code",
   "execution_count": 9,
   "metadata": {},
   "outputs": [
    {
     "data": {
      "text/plain": [
       "[[0.57095653041311],\n",
       " [0.5769240327355445],\n",
       " [0.5954482544300373],\n",
       " [0.9741997198385562],\n",
       " [0.8993369976251518],\n",
       " [0.6379762601801684],\n",
       " [0.49990822911893196],\n",
       " [0.8797472635688512],\n",
       " [0.9966460132178117],\n",
       " [0.8266455411286058],\n",
       " [0.9042120366578484],\n",
       " [0.8921554030041474],\n",
       " [0.8760855811689263],\n",
       " [0.6204892985488556],\n",
       " [0.6144043303061358],\n",
       " [0.9837192460302786],\n",
       " [0.4550193655986422],\n",
       " [0.8977260487603633],\n",
       " [0.33090246946272406],\n",
       " [0.9709788487281369],\n",
       " [0.9724289042673533],\n",
       " [0.9111016668880066],\n",
       " [0.7308984027562269],\n",
       " [0.8809467157272645],\n",
       " [0.6088180736614998],\n",
       " [0.3938002610491207],\n",
       " [0.399384978858232],\n",
       " [0.665072919637558],\n",
       " [0.7235550374344539],\n",
       " [0.9824962588327634],\n",
       " [0.6165137040000103]]"
      ]
     },
     "execution_count": 9,
     "metadata": {},
     "output_type": "execute_result"
    }
   ],
   "source": [
    "sd.data['refined']['quality_estimates']"
   ]
  },
  {
   "cell_type": "code",
   "execution_count": null,
   "metadata": {},
   "outputs": [],
   "source": []
  }
 ],
 "metadata": {
  "kernelspec": {
   "display_name": "Python 3",
   "language": "python",
   "name": "python3"
  },
  "language_info": {
   "codemirror_mode": {
    "name": "ipython",
    "version": 3
   },
   "file_extension": ".py",
   "mimetype": "text/x-python",
   "name": "python",
   "nbconvert_exporter": "python",
   "pygments_lexer": "ipython3",
   "version": "3.7.7"
  }
 },
 "nbformat": 4,
 "nbformat_minor": 4
}
