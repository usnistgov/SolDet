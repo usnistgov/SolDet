{
 "cells": [
  {
   "cell_type": "code",
   "execution_count": null,
   "metadata": {},
   "outputs": [],
   "source": [
    "import os\n",
    "import sys\n",
    "nb_dir = os.path.split(os.getcwd())[0]\n",
    "if nb_dir not in sys.path:\n",
    "    sys.path.append(nb_dir)\n",
    "from soldet import SolitonDetector\n",
    "import soldet"
   ]
  },
  {
   "cell_type": "code",
   "execution_count": null,
   "metadata": {},
   "outputs": [],
   "source": [
    "# Define SolitonDetector object\n",
    "sd = SolitonDetector()\n",
    "# Data loading\n",
    "labeled_data_dir = [nb_dir + '/data/data_files/class-' + s +'/' for s in ['0','1','2']]\n",
    "sd.load_data(directory=labeled_data_dir, data_key={'train':0.9, 'test':0.1}, data_type='labeled', shuffle=420) # load labeled data, \n",
    "# sd.preview_data() # show sample data for each class"
   ]
  },
  {
   "cell_type": "code",
   "execution_count": null,
   "metadata": {},
   "outputs": [],
   "source": [
    "# Training ML models:\n",
    "sd.train_ML(model_key='object_detector', data_key='train', save=nb_dir+'/example/SolDet_train/') # train object detector.\n",
    "sd.train_ML(model_key='classifier', data_key='train', save=nb_dir+'/example/SolDet_train/') # train CNN classifier."
   ]
  },
  {
   "cell_type": "code",
   "execution_count": null,
   "metadata": {},
   "outputs": [],
   "source": [
    "# Training Physics-based models:\n",
    "sd.define_PIE_classifier(data_key='train', save=nb_dir+'/example/SolDet_train/') # define PIE classifier\n",
    "sd.train_quality_estimator(data_key='train', save=nb_dir+'/example/SolDet_train/') # define quality estimator"
   ]
  },
  {
   "cell_type": "code",
   "execution_count": null,
   "metadata": {},
   "outputs": [],
   "source": [
    "# Testing\n",
    "# sd.load_models(nb_dir+'/example/SolDet/')\n",
    "model_keys = ['classifier', 'object_detector', 'PIE_classifier', 'quality_estimator']\n",
    "results = []\n",
    "for model_key in model_keys:\n",
    "    results.append(sd.predict(data_key='test', model_key=model_key))"
   ]
  }
 ],
 "metadata": {
  "kernelspec": {
   "display_name": "Python 3",
   "language": "python",
   "name": "python3"
  },
  "language_info": {
   "codemirror_mode": {
    "name": "ipython",
    "version": 3
   },
   "file_extension": ".py",
   "mimetype": "text/x-python",
   "name": "python",
   "nbconvert_exporter": "python",
   "pygments_lexer": "ipython3",
   "version": "3.7.7"
  }
 },
 "nbformat": 4,
 "nbformat_minor": 4
}
